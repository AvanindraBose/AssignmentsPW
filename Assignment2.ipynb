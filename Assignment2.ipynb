{
  "nbformat": 4,
  "nbformat_minor": 0,
  "metadata": {
    "colab": {
      "provenance": [],
      "authorship_tag": "ABX9TyMPa4eQfocoPp07ty48F4Xg",
      "include_colab_link": true
    },
    "kernelspec": {
      "name": "python3",
      "display_name": "Python 3"
    },
    "language_info": {
      "name": "python"
    }
  },
  "cells": [
    {
      "cell_type": "markdown",
      "metadata": {
        "id": "view-in-github",
        "colab_type": "text"
      },
      "source": [
        "<a href=\"https://colab.research.google.com/github/AvanindraBose/AssignmentsPW/blob/main/Assignment2.ipynb\" target=\"_parent\"><img src=\"https://colab.research.google.com/assets/colab-badge.svg\" alt=\"Open In Colab\"/></a>"
      ]
    },
    {
      "cell_type": "markdown",
      "source": [
        "**Assignment2**"
      ],
      "metadata": {
        "id": "qpHYao1RYCrb"
      }
    },
    {
      "cell_type": "markdown",
      "source": [
        "**Question 1**"
      ],
      "metadata": {
        "id": "qzTo0344YF3Z"
      }
    },
    {
      "cell_type": "code",
      "source": [
        "# String slicing in Python is a method which allows you to extract a substring from a string by specifying a range of indices.\n",
        "# Example\n",
        "s = \"hello world\"\n",
        "print(s[0:5])\n",
        "print(s[:5])\n",
        "print(s[7:])\n",
        "print(s[-6:-1])\n",
        "print(s[-6:])\n",
        "print(s[::2])\n",
        "print(s[::-1])\n",
        "print(s[1:8:2])"
      ],
      "metadata": {
        "colab": {
          "base_uri": "https://localhost:8080/"
        },
        "id": "izYbbrCKYKan",
        "outputId": "2d29d041-5af4-4047-93a7-3abece228be9"
      },
      "execution_count": 2,
      "outputs": [
        {
          "output_type": "stream",
          "name": "stdout",
          "text": [
            "hello\n",
            "hello\n",
            "orld\n",
            " worl\n",
            " world\n",
            "hlowrd\n",
            "dlrow olleh\n",
            "el o\n"
          ]
        }
      ]
    },
    {
      "cell_type": "markdown",
      "source": [
        "**Question 2**"
      ],
      "metadata": {
        "id": "6RGCSUC2aMsU"
      }
    },
    {
      "cell_type": "code",
      "source": [
        "# Features of List are as follows with examples\n",
        "# 1. Ordered\n",
        "fruits = [\"apple\", \"banana\", \"cherry\"]\n",
        "print(fruits[0])  # Output: apple\n",
        "# 2. Mutable\n",
        "fruits[1] = \"blueberry\"\n",
        "print(fruits)  # Output: ['apple', 'blueberry', 'cherry']\n",
        "\n",
        "# 3. Heterogeneous Elements\n",
        "mixed_list = [1, \"apple\", 3.14, [2, 4, 6]]\n",
        "print(mixed_list)  # Output: [1, 'apple', 3.14, [2, 4, 6]]\n",
        "\n",
        "# 4. Dynamic Size\n",
        "numbers = [1, 2, 3]\n",
        "numbers.append(4)\n",
        "print(numbers)  # Output: [1, 2, 3, 4]\n",
        "\n",
        "# 5. Nested Lists\n",
        "matrix = [[1, 2, 3], [4, 5, 6], [7, 8, 9]]\n",
        "print(matrix[1][2])  # Output: 6\n",
        "\n",
        "# 6. Slicing\n",
        "sublist = numbers[1:4]\n",
        "print(sublist)  # Output: [1, 2, 3]\n"
      ],
      "metadata": {
        "colab": {
          "base_uri": "https://localhost:8080/"
        },
        "id": "qhKnjHgGaSgv",
        "outputId": "c1fb7237-df23-40b6-e470-6bba93151d79"
      },
      "execution_count": 3,
      "outputs": [
        {
          "output_type": "stream",
          "name": "stdout",
          "text": [
            "apple\n",
            "['apple', 'blueberry', 'cherry']\n",
            "[1, 'apple', 3.14, [2, 4, 6]]\n",
            "[1, 2, 3, 4]\n",
            "6\n",
            "[2, 3, 4]\n"
          ]
        }
      ]
    },
    {
      "cell_type": "markdown",
      "source": [
        "**Question 3**"
      ],
      "metadata": {
        "id": "qp7Yx7TqbNqA"
      }
    },
    {
      "cell_type": "code",
      "source": [
        "# Accessing elements in list\n",
        "fruits = [\"apple\", \"banana\", \"cherry\", \"date\"]\n",
        "\n",
        "# Accessing elements by index\n",
        "first_fruit = fruits[0]\n",
        "second_fruit = fruits[1]\n",
        "last_fruit = fruits[-1]\n",
        "\n",
        "print(first_fruit)\n",
        "print(second_fruit)\n",
        "print(last_fruit)\n",
        "\n",
        "#  Modifying Elements in a list\n",
        "fruits = [\"apple\", \"banana\", \"cherry\", \"date\"]\n",
        "\n",
        "# Modifying elements by index\n",
        "fruits[1] = \"blueberry\"\n",
        "fruits[-1] = \"dragonfruit\"\n",
        "\n",
        "print(fruits)\n",
        "\n",
        "# Deleting elements from a list\n",
        "# Using del method\n",
        "fruits = [\"apple\", \"banana\", \"cherry\", \"date\"]\n",
        "\n",
        "# Deleting a specific element by index\n",
        "del fruits[1]\n",
        "print(fruits)\n",
        "\n",
        "# Deleting a slice of elements\n",
        "del fruits[1:3]\n",
        "print(fruits)\n",
        "\n",
        "# using remove method\n",
        "fruits = [\"apple\", \"banana\", \"cherry\", \"date\"]\n",
        "\n",
        "# Removing the first occurrence of a value\n",
        "fruits.remove(\"banana\")\n",
        "print(fruits)\n",
        "\n",
        "# using pop method\n",
        "fruits = [\"apple\", \"banana\", \"cherry\", \"date\"]\n",
        "\n",
        "# Removing an element by index and getting it\n",
        "popped_fruit = fruits.pop(1)\n",
        "print(popped_fruit)\n",
        "print(fruits)\n",
        "\n",
        "# Removing the last element\n",
        "last_fruit = fruits.pop()\n",
        "print(last_fruit)\n",
        "print(fruits)\n",
        "\n"
      ],
      "metadata": {
        "colab": {
          "base_uri": "https://localhost:8080/"
        },
        "id": "Lucv3gedbQiv",
        "outputId": "1be7b882-5701-445d-dd90-1dae2d6def60"
      },
      "execution_count": 4,
      "outputs": [
        {
          "output_type": "stream",
          "name": "stdout",
          "text": [
            "apple\n",
            "banana\n",
            "date\n",
            "['apple', 'blueberry', 'cherry', 'dragonfruit']\n",
            "['apple', 'cherry', 'date']\n",
            "['apple']\n",
            "['apple', 'cherry', 'date']\n",
            "banana\n",
            "['apple', 'cherry', 'date']\n",
            "date\n",
            "['apple', 'cherry']\n"
          ]
        }
      ]
    },
    {
      "cell_type": "markdown",
      "source": [
        "**Question 4**"
      ],
      "metadata": {
        "id": "AD3cSOpmcH83"
      }
    },
    {
      "cell_type": "code",
      "source": [
        "# Difference between list and tuple are as follows :\n",
        "# 1. Mutability\n",
        "# Lists are mutable, meaning their elements can be changed after they are created.\n",
        "# Tuples are immutable, meaning once they are created, their elements cannot be changed.\n",
        "# List (mutable)\n",
        "my_list = [1, 2, 3]\n",
        "my_list[1] = 4\n",
        "print(my_list)\n",
        "\n",
        "# Tuple (immutable)\n",
        "my_tuple = (1, 2, 3)\n",
        "# my_tuple[1] = 4  # This will raise a TypeError\n",
        "\n",
        "# 2. Syntax\n",
        "# Lists are defined using square brackets [].\n",
        "# Tuples are defined using parentheses ().\n",
        "my_list = [1, 2, 3]\n",
        "my_tuple = (1, 2, 3)\n",
        "\n",
        "# . Use Cases\n",
        "# Lists are used when you need a collection of items that can be modified, such as adding, removing, or changing elements.\n",
        "# Tuples are used when you need a collection of items that should not change, providing data integrity.\n",
        "# List for a collection that may change\n",
        "shopping_list = [\"eggs\", \"milk\", \"bread\"]\n",
        "shopping_list.append(\"butter\")\n",
        "print(shopping_list)\n",
        "\n",
        "# Tuple for fixed data\n",
        "dimensions = (1920, 1080)\n",
        "# dimensions[0] = 1280  # This will raise a TypeError\n",
        "\n",
        "# 4. Performance\n",
        "# Tuples are generally faster than lists due to their immutability.\n",
        "# Lists have more overhead because they support a larger variety of operations, such as append, remove, and sort.\n",
        "import timeit\n",
        "\n",
        "# List creation\n",
        "list_creation = timeit.timeit(stmt=\"[1, 2, 3, 4, 5]\", number=1000000)\n",
        "print(f\"List creation time: {list_creation}\")\n",
        "\n",
        "# Tuple creation\n",
        "tuple_creation = timeit.timeit(stmt=\"(1, 2, 3, 4, 5)\", number=1000000)\n",
        "print(f\"Tuple creation time: {tuple_creation}\")\n"
      ],
      "metadata": {
        "colab": {
          "base_uri": "https://localhost:8080/"
        },
        "id": "68uJLdYicL9i",
        "outputId": "c87f6dff-9d1d-47f7-e75c-b408d649d3fc"
      },
      "execution_count": 5,
      "outputs": [
        {
          "output_type": "stream",
          "name": "stdout",
          "text": [
            "[1, 4, 3]\n",
            "['eggs', 'milk', 'bread', 'butter']\n",
            "List creation time: 0.07449236700017536\n",
            "Tuple creation time: 0.015989662000038152\n"
          ]
        }
      ]
    },
    {
      "cell_type": "markdown",
      "source": [
        "**Question 5**"
      ],
      "metadata": {
        "id": "Z_0JXGkAdkmI"
      }
    },
    {
      "cell_type": "code",
      "source": [
        "# Sets are an important data structure in Python, used to store collections of unique elements. Here are the key features of sets and examples of their use:\n",
        "# 1. Unordered\n",
        "my_set = {3, 1, 4, 1, 5, 9}\n",
        "print(my_set)  # Output: {1, 3, 4, 5, 9} (order may vary)\n",
        "\n",
        "# 2. Unique Elements\n",
        "my_set = {1, 2, 2, 3, 4, 4, 5}\n",
        "print(my_set)  # Output: {1, 2, 3, 4, 5}\n",
        "\n",
        "# 3. Mutable\n",
        "my_set = {1, 2, 3}\n",
        "my_set.add(4)\n",
        "print(my_set)  # Output: {1, 2, 3, 4}\n",
        "\n",
        "my_set.remove(2)\n",
        "print(my_set)  # Output: {1, 3, 4}\n",
        "\n",
        "# 4. No Indexing or Slicing\n",
        "my_set = {1, 2, 3}\n",
        "# print(my_set[0])  # This will raise a TypeError\n",
        "\n",
        "# 5. Heterogeneous Elements\n",
        "my_set = {1, \"apple\", 3.14, (1, 2)}\n",
        "print(my_set)  # Output: {1, 3.14, 'apple', (1, 2)}\n"
      ],
      "metadata": {
        "colab": {
          "base_uri": "https://localhost:8080/"
        },
        "id": "apKSiJezdou3",
        "outputId": "c4df450f-83ba-4771-abe0-9e928bbc5334"
      },
      "execution_count": 6,
      "outputs": [
        {
          "output_type": "stream",
          "name": "stdout",
          "text": [
            "{1, 3, 4, 5, 9}\n",
            "{1, 2, 3, 4, 5}\n",
            "{1, 2, 3, 4}\n",
            "{1, 3, 4}\n",
            "{1, (1, 2), 3.14, 'apple'}\n"
          ]
        }
      ]
    },
    {
      "cell_type": "markdown",
      "source": [
        "**Question 6**"
      ],
      "metadata": {
        "id": "L_lGKeuZeOan"
      }
    },
    {
      "cell_type": "code",
      "source": [
        "# Use Cases of Tuples\n",
        "# 1. Fixed Collections of Items\n",
        "# Coordinates of a point\n",
        "point = (10, 20)\n",
        "\n",
        "# 2. Function Arguments and Return Values\n",
        "def get_person_info():\n",
        "    return (\"Alice\", 30)\n",
        "\n",
        "name, age = get_person_info()\n",
        "\n",
        "# 3. Data Integrity\n",
        "# When you want to ensure that a collection of data remains unchanged, tuples provide a reliable option due to their immutability.\n",
        "user_info = (\"Alice\", \"Smith\", \"alice@example.com\")\n",
        "\n",
        "# Use Cases of Sets\n",
        "# Eliminating Duplicates\n",
        "\n",
        "# Sets automatically remove duplicate items, making them ideal for situations where uniqueness is required.\n",
        "my_list = [1, 2, 2, 3, 4, 4, 5]\n",
        "unique_set = set(my_list)\n",
        "print(unique_set)  # Output: {1, 2, 3, 4, 5}\n",
        "\n",
        "# Mathematical Set Operations\n",
        "\n",
        "# Sets support various mathematical operations like union, intersection, difference, and symmetric difference, making them useful for tasks involving set theory\n",
        "set1 = {1, 2, 3}\n",
        "set2 = {3, 4, 5}\n",
        "\n",
        "# Union\n",
        "print(set1.union(set2))  # Output: {1, 2, 3, 4, 5}\n",
        "\n",
        "# Intersection\n",
        "print(set1.intersection(set2))  # Output: {3}\n",
        "\n",
        "# Difference\n",
        "print(set1.difference(set2))  # Output: {1, 2}\n",
        "\n",
        "# Symmetric Difference\n",
        "print(set1.symmetric_difference(set2))  # Output: {1, 2, 4, 5}\n"
      ],
      "metadata": {
        "colab": {
          "base_uri": "https://localhost:8080/"
        },
        "id": "vgOXb3nheRKZ",
        "outputId": "05f463f1-165e-4c80-a011-c2c92e2d8573"
      },
      "execution_count": 8,
      "outputs": [
        {
          "output_type": "stream",
          "name": "stdout",
          "text": [
            "{1, 2, 3, 4, 5}\n",
            "{1, 2, 3, 4, 5}\n",
            "{3}\n",
            "{1, 2}\n",
            "{1, 2, 4, 5}\n"
          ]
        }
      ]
    },
    {
      "cell_type": "markdown",
      "source": [
        "**Question 7**"
      ],
      "metadata": {
        "id": "k3WWlFl4gv-C"
      }
    },
    {
      "cell_type": "code",
      "source": [
        "# Dictionaries in Python are mutable data structures that store key-value pairs.\n",
        "# Adding items to Dictionary\n",
        "# Creating a dictionary\n",
        "my_dict = {\"name\": \"Alice\", \"age\": 25}\n",
        "\n",
        "# Adding a new key-value pair\n",
        "my_dict[\"city\"] = \"New York\"\n",
        "print(my_dict)\n",
        "\n",
        "# Modifying Items in a Dictionary\n",
        "# Creating a dictionary\n",
        "my_dict = {\"name\": \"Alice\", \"age\": 25, \"city\": \"New York\"}\n",
        "\n",
        "# Modifying the value of an existing key\n",
        "my_dict[\"age\"] = 26\n",
        "print(my_dict)\n",
        "\n",
        "# Deleting Items from a Dictionary\n",
        "# Using del\n",
        "# Creating a dictionary\n",
        "my_dict = {\"name\": \"Alice\", \"age\": 26, \"city\": \"New York\"}\n",
        "\n",
        "# Deleting a key-value pair\n",
        "del my_dict[\"city\"]\n",
        "print(my_dict)\n",
        "\n",
        "# Using pop() Method\n",
        "# Creating a dictionary\n",
        "my_dict = {\"name\": \"Alice\", \"age\": 26}\n",
        "\n",
        "age = my_dict.pop(\"age\")\n",
        "print(age)\n",
        "print(my_dict)\n",
        "\n",
        "# Using pop() with a default value to avoid KeyError\n",
        "city = my_dict.pop(\"city\", \"Not Found\")\n",
        "print(city)\n"
      ],
      "metadata": {
        "colab": {
          "base_uri": "https://localhost:8080/"
        },
        "id": "_U01T5jFhAgp",
        "outputId": "1228035e-7957-4195-d8eb-7cbed4c686bf"
      },
      "execution_count": 9,
      "outputs": [
        {
          "output_type": "stream",
          "name": "stdout",
          "text": [
            "{'name': 'Alice', 'age': 25, 'city': 'New York'}\n",
            "{'name': 'Alice', 'age': 26, 'city': 'New York'}\n",
            "{'name': 'Alice', 'age': 26}\n",
            "26\n",
            "{'name': 'Alice'}\n",
            "Not Found\n"
          ]
        }
      ]
    },
    {
      "cell_type": "markdown",
      "source": [
        "**Question 8**"
      ],
      "metadata": {
        "id": "qCFjYyA2h5XR"
      }
    },
    {
      "cell_type": "code",
      "source": [
        "# In Python, dictionary keys must be immutable because the keys need to be hashable and maintain a consistent hash value throughout their lifetime.\n",
        "# Importance of Immutable Dictionary Keys\n",
        "\n",
        "# 1. Hashability\n",
        "# Dictionary keys are stored in a hash table, and each key's hash value determines its location. If keys were mutable and their values changed, the hash value would also change, leading to inconsistent lookups and unpredictable behavior.\n",
        "# Immutable types like strings, numbers, and tuples have fixed hash values, making them reliable dictionary keys.\n",
        "\n",
        "# 2. Consistency\n",
        "# Immutability ensures that the key remains consistent throughout its use in the dictionary. If keys could change, it would disrupt the mapping of keys to values, making it impossible to retrieve the correct value for a given key.\n",
        "\n",
        "# Example of Immutable Keys\n",
        "\n",
        "my_dict = {\"name\": \"Alice\", \"age\": 25}\n",
        "print(my_dict[\"name\"])\n",
        "\n",
        "my_dict = {1: \"one\", 2: \"two\", 3: \"three\"}\n",
        "print(my_dict[2])\n",
        "\n",
        "my_dict = {(1, 2): \"a pair\", (3, 4): \"another pair\"}\n",
        "print(my_dict[(1, 2)])\n",
        "\n",
        "# Example of Mutable Keys\n",
        "\n",
        "# my_dict = {[\"a\", \"b\"]: \"value\"}  # This will raise a TypeError\n",
        "\n",
        "# key_dict = {\"subkey\": \"subvalue\"}\n",
        "# my_dict = {key_dict: \"value\"}  # This will raise a TypeError\n"
      ],
      "metadata": {
        "colab": {
          "base_uri": "https://localhost:8080/"
        },
        "id": "DzB3zYADh9Le",
        "outputId": "8e36f059-85c5-47fe-aa4e-67ec57f8a1be"
      },
      "execution_count": 14,
      "outputs": [
        {
          "output_type": "stream",
          "name": "stdout",
          "text": [
            "Alice\n",
            "two\n",
            "a pair\n"
          ]
        }
      ]
    }
  ]
}